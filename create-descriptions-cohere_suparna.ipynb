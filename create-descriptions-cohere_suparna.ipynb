{
 "cells": [
  {
   "cell_type": "code",
   "execution_count": 1,
   "metadata": {},
   "outputs": [
    {
     "name": "stdout",
     "output_type": "stream",
     "text": [
      "Requirement already satisfied: jupyter in c:\\users\\supar\\anaconda3\\envs\\cupidgpt\\lib\\site-packages (from -r requirements.txt (line 1)) (1.0.0)\n",
      "Requirement already satisfied: cohere in c:\\users\\supar\\anaconda3\\envs\\cupidgpt\\lib\\site-packages (from -r requirements.txt (line 2)) (4.21)\n",
      "Requirement already satisfied: langchain in c:\\users\\supar\\anaconda3\\envs\\cupidgpt\\lib\\site-packages (from -r requirements.txt (line 3)) (0.0.274)\n",
      "Requirement already satisfied: qdrant-client in c:\\users\\supar\\anaconda3\\envs\\cupidgpt\\lib\\site-packages (from -r requirements.txt (line 4)) (1.4.0)\n",
      "Requirement already satisfied: tfds-nightly in c:\\users\\supar\\anaconda3\\envs\\cupidgpt\\lib\\site-packages (from -r requirements.txt (line 5)) (4.9.2.dev202308260043)\n",
      "Requirement already satisfied: python-dotenv in c:\\users\\supar\\anaconda3\\envs\\cupidgpt\\lib\\site-packages (from -r requirements.txt (line 6)) (1.0.0)\n",
      "Requirement already satisfied: pymongo in c:\\users\\supar\\anaconda3\\envs\\cupidgpt\\lib\\site-packages (from -r requirements.txt (line 7)) (4.5.0)\n",
      "Requirement already satisfied: pandas in c:\\users\\supar\\anaconda3\\envs\\cupidgpt\\lib\\site-packages (from -r requirements.txt (line 8)) (2.0.3)\n",
      "Requirement already satisfied: numpy in c:\\users\\supar\\anaconda3\\envs\\cupidgpt\\lib\\site-packages (from -r requirements.txt (line 9)) (1.25.2)\n",
      "Requirement already satisfied: modal in c:\\users\\supar\\anaconda3\\envs\\cupidgpt\\lib\\site-packages (from -r requirements.txt (line 10)) (0.51.3197)\n",
      "Requirement already satisfied: modal-client in c:\\users\\supar\\anaconda3\\envs\\cupidgpt\\lib\\site-packages (from -r requirements.txt (line 11)) (0.51.3197)\n",
      "Requirement already satisfied: notebook in c:\\users\\supar\\anaconda3\\envs\\cupidgpt\\lib\\site-packages (from jupyter->-r requirements.txt (line 1)) (6.5.4)\n",
      "Requirement already satisfied: qtconsole in c:\\users\\supar\\anaconda3\\envs\\cupidgpt\\lib\\site-packages (from jupyter->-r requirements.txt (line 1)) (5.4.2)\n",
      "Requirement already satisfied: jupyter-console in c:\\users\\supar\\anaconda3\\envs\\cupidgpt\\lib\\site-packages (from jupyter->-r requirements.txt (line 1)) (6.6.3)\n",
      "Requirement already satisfied: nbconvert in c:\\users\\supar\\anaconda3\\envs\\cupidgpt\\lib\\site-packages (from jupyter->-r requirements.txt (line 1)) (6.5.4)\n",
      "Requirement already satisfied: ipykernel in c:\\users\\supar\\anaconda3\\envs\\cupidgpt\\lib\\site-packages (from jupyter->-r requirements.txt (line 1)) (6.25.0)\n",
      "Requirement already satisfied: ipywidgets in c:\\users\\supar\\anaconda3\\envs\\cupidgpt\\lib\\site-packages (from jupyter->-r requirements.txt (line 1)) (8.0.4)\n",
      "Requirement already satisfied: aiohttp<4.0,>=3.0 in c:\\users\\supar\\anaconda3\\envs\\cupidgpt\\lib\\site-packages (from cohere->-r requirements.txt (line 2)) (3.8.5)\n",
      "Requirement already satisfied: backoff<3.0,>=2.0 in c:\\users\\supar\\anaconda3\\envs\\cupidgpt\\lib\\site-packages (from cohere->-r requirements.txt (line 2)) (2.2.1)\n",
      "Requirement already satisfied: fastavro==1.8.2 in c:\\users\\supar\\anaconda3\\envs\\cupidgpt\\lib\\site-packages (from cohere->-r requirements.txt (line 2)) (1.8.2)\n",
      "Requirement already satisfied: importlib_metadata<7.0,>=6.0 in c:\\users\\supar\\anaconda3\\envs\\cupidgpt\\lib\\site-packages (from cohere->-r requirements.txt (line 2)) (6.8.0)\n",
      "Requirement already satisfied: requests<3.0.0,>=2.25.0 in c:\\users\\supar\\anaconda3\\envs\\cupidgpt\\lib\\site-packages (from cohere->-r requirements.txt (line 2)) (2.31.0)\n",
      "Requirement already satisfied: urllib3<3,>=1.26 in c:\\users\\supar\\anaconda3\\envs\\cupidgpt\\lib\\site-packages (from cohere->-r requirements.txt (line 2)) (1.26.16)\n",
      "Requirement already satisfied: PyYAML>=5.3 in c:\\users\\supar\\anaconda3\\envs\\cupidgpt\\lib\\site-packages (from langchain->-r requirements.txt (line 3)) (6.0)\n",
      "Requirement already satisfied: SQLAlchemy<3,>=1.4 in c:\\users\\supar\\anaconda3\\envs\\cupidgpt\\lib\\site-packages (from langchain->-r requirements.txt (line 3)) (2.0.20)\n",
      "Requirement already satisfied: async-timeout<5.0.0,>=4.0.0 in c:\\users\\supar\\anaconda3\\envs\\cupidgpt\\lib\\site-packages (from langchain->-r requirements.txt (line 3)) (4.0.3)\n",
      "Requirement already satisfied: dataclasses-json<0.6.0,>=0.5.7 in c:\\users\\supar\\anaconda3\\envs\\cupidgpt\\lib\\site-packages (from langchain->-r requirements.txt (line 3)) (0.5.14)\n",
      "Requirement already satisfied: langsmith<0.1.0,>=0.0.21 in c:\\users\\supar\\anaconda3\\envs\\cupidgpt\\lib\\site-packages (from langchain->-r requirements.txt (line 3)) (0.0.26)\n",
      "Requirement already satisfied: numexpr<3.0.0,>=2.8.4 in c:\\users\\supar\\anaconda3\\envs\\cupidgpt\\lib\\site-packages (from langchain->-r requirements.txt (line 3)) (2.8.5)\n",
      "Requirement already satisfied: pydantic<3,>=1 in c:\\users\\supar\\anaconda3\\envs\\cupidgpt\\lib\\site-packages (from langchain->-r requirements.txt (line 3)) (2.3.0)\n",
      "Requirement already satisfied: tenacity<9.0.0,>=8.1.0 in c:\\users\\supar\\anaconda3\\envs\\cupidgpt\\lib\\site-packages (from langchain->-r requirements.txt (line 3)) (8.2.3)\n",
      "Requirement already satisfied: grpcio>=1.41.0 in c:\\users\\supar\\anaconda3\\envs\\cupidgpt\\lib\\site-packages (from qdrant-client->-r requirements.txt (line 4)) (1.57.0)\n",
      "Requirement already satisfied: grpcio-tools>=1.41.0 in c:\\users\\supar\\anaconda3\\envs\\cupidgpt\\lib\\site-packages (from qdrant-client->-r requirements.txt (line 4)) (1.57.0)\n",
      "Requirement already satisfied: httpx[http2]>=0.14.0 in c:\\users\\supar\\anaconda3\\envs\\cupidgpt\\lib\\site-packages (from qdrant-client->-r requirements.txt (line 4)) (0.24.1)\n",
      "Requirement already satisfied: portalocker<3.0.0,>=2.7.0 in c:\\users\\supar\\anaconda3\\envs\\cupidgpt\\lib\\site-packages (from qdrant-client->-r requirements.txt (line 4)) (2.7.0)\n",
      "Requirement already satisfied: absl-py in c:\\users\\supar\\anaconda3\\envs\\cupidgpt\\lib\\site-packages (from tfds-nightly->-r requirements.txt (line 5)) (1.4.0)\n",
      "Requirement already satisfied: array-record in c:\\users\\supar\\anaconda3\\envs\\cupidgpt\\lib\\site-packages (from tfds-nightly->-r requirements.txt (line 5)) (0.4.1)\n",
      "Requirement already satisfied: click in c:\\users\\supar\\anaconda3\\envs\\cupidgpt\\lib\\site-packages (from tfds-nightly->-r requirements.txt (line 5)) (8.1.7)\n",
      "Requirement already satisfied: dm-tree in c:\\users\\supar\\anaconda3\\envs\\cupidgpt\\lib\\site-packages (from tfds-nightly->-r requirements.txt (line 5)) (0.1.8)\n",
      "Requirement already satisfied: etils[enp,epath,etree]>=0.9.0 in c:\\users\\supar\\anaconda3\\envs\\cupidgpt\\lib\\site-packages (from tfds-nightly->-r requirements.txt (line 5)) (1.4.1)\n",
      "Requirement already satisfied: promise in c:\\users\\supar\\anaconda3\\envs\\cupidgpt\\lib\\site-packages (from tfds-nightly->-r requirements.txt (line 5)) (2.3)\n",
      "Requirement already satisfied: protobuf>=3.20 in c:\\users\\supar\\anaconda3\\envs\\cupidgpt\\lib\\site-packages (from tfds-nightly->-r requirements.txt (line 5)) (4.24.2)\n",
      "Requirement already satisfied: psutil in c:\\users\\supar\\anaconda3\\envs\\cupidgpt\\lib\\site-packages (from tfds-nightly->-r requirements.txt (line 5)) (5.9.0)\n",
      "Requirement already satisfied: tensorflow-metadata in c:\\users\\supar\\anaconda3\\envs\\cupidgpt\\lib\\site-packages (from tfds-nightly->-r requirements.txt (line 5)) (1.13.1)\n",
      "Requirement already satisfied: termcolor in c:\\users\\supar\\anaconda3\\envs\\cupidgpt\\lib\\site-packages (from tfds-nightly->-r requirements.txt (line 5)) (2.3.0)\n",
      "Requirement already satisfied: toml in c:\\users\\supar\\anaconda3\\envs\\cupidgpt\\lib\\site-packages (from tfds-nightly->-r requirements.txt (line 5)) (0.10.2)\n",
      "Requirement already satisfied: tqdm in c:\\users\\supar\\anaconda3\\envs\\cupidgpt\\lib\\site-packages (from tfds-nightly->-r requirements.txt (line 5)) (4.66.1)\n",
      "Requirement already satisfied: wrapt in c:\\users\\supar\\anaconda3\\envs\\cupidgpt\\lib\\site-packages (from tfds-nightly->-r requirements.txt (line 5)) (1.15.0)\n",
      "Requirement already satisfied: dnspython<3.0.0,>=1.16.0 in c:\\users\\supar\\anaconda3\\envs\\cupidgpt\\lib\\site-packages (from pymongo->-r requirements.txt (line 7)) (2.4.2)\n",
      "Requirement already satisfied: python-dateutil>=2.8.2 in c:\\users\\supar\\anaconda3\\envs\\cupidgpt\\lib\\site-packages (from pandas->-r requirements.txt (line 8)) (2.8.2)\n",
      "Requirement already satisfied: pytz>=2020.1 in c:\\users\\supar\\anaconda3\\envs\\cupidgpt\\lib\\site-packages (from pandas->-r requirements.txt (line 8)) (2022.7)\n",
      "Requirement already satisfied: tzdata>=2022.1 in c:\\users\\supar\\anaconda3\\envs\\cupidgpt\\lib\\site-packages (from pandas->-r requirements.txt (line 8)) (2023.3)\n",
      "Requirement already satisfied: aiostream in c:\\users\\supar\\anaconda3\\envs\\cupidgpt\\lib\\site-packages (from modal-client->-r requirements.txt (line 11)) (0.4.5)\n",
      "Requirement already satisfied: asgiref in c:\\users\\supar\\anaconda3\\envs\\cupidgpt\\lib\\site-packages (from modal-client->-r requirements.txt (line 11)) (3.7.2)\n",
      "Requirement already satisfied: certifi in c:\\users\\supar\\anaconda3\\envs\\cupidgpt\\lib\\site-packages (from modal-client->-r requirements.txt (line 11)) (2023.7.22)\n",
      "Requirement already satisfied: fastapi in c:\\users\\supar\\anaconda3\\envs\\cupidgpt\\lib\\site-packages (from modal-client->-r requirements.txt (line 11)) (0.103.0)\n",
      "Requirement already satisfied: grpclib==0.4.3 in c:\\users\\supar\\anaconda3\\envs\\cupidgpt\\lib\\site-packages (from modal-client->-r requirements.txt (line 11)) (0.4.3)\n",
      "Requirement already satisfied: rich>=12.0.0 in c:\\users\\supar\\anaconda3\\envs\\cupidgpt\\lib\\site-packages (from modal-client->-r requirements.txt (line 11)) (13.5.2)\n",
      "Requirement already satisfied: synchronicity~=0.5.3 in c:\\users\\supar\\anaconda3\\envs\\cupidgpt\\lib\\site-packages (from modal-client->-r requirements.txt (line 11)) (0.5.3)\n",
      "Requirement already satisfied: tblib>=1.7.0 in c:\\users\\supar\\anaconda3\\envs\\cupidgpt\\lib\\site-packages (from modal-client->-r requirements.txt (line 11)) (2.0.0)\n",
      "Requirement already satisfied: typer~=0.9.0 in c:\\users\\supar\\anaconda3\\envs\\cupidgpt\\lib\\site-packages (from modal-client->-r requirements.txt (line 11)) (0.9.0)\n",
      "Requirement already satisfied: types-certifi in c:\\users\\supar\\anaconda3\\envs\\cupidgpt\\lib\\site-packages (from modal-client->-r requirements.txt (line 11)) (2021.10.8.3)\n",
      "Requirement already satisfied: types-toml in c:\\users\\supar\\anaconda3\\envs\\cupidgpt\\lib\\site-packages (from modal-client->-r requirements.txt (line 11)) (0.10.8.7)\n",
      "Requirement already satisfied: watchfiles in c:\\users\\supar\\anaconda3\\envs\\cupidgpt\\lib\\site-packages (from modal-client->-r requirements.txt (line 11)) (0.20.0)\n",
      "Requirement already satisfied: typing-extensions~=4.6 in c:\\users\\supar\\anaconda3\\envs\\cupidgpt\\lib\\site-packages (from modal-client->-r requirements.txt (line 11)) (4.7.1)\n",
      "Requirement already satisfied: cloudpickle<2.1.0,>=2.0.0 in c:\\users\\supar\\anaconda3\\envs\\cupidgpt\\lib\\site-packages (from modal-client->-r requirements.txt (line 11)) (2.0.0)\n",
      "Requirement already satisfied: h2<5,>=3.1.0 in c:\\users\\supar\\anaconda3\\envs\\cupidgpt\\lib\\site-packages (from grpclib==0.4.3->modal-client->-r requirements.txt (line 11)) (4.1.0)\n",
      "Requirement already satisfied: multidict in c:\\users\\supar\\anaconda3\\envs\\cupidgpt\\lib\\site-packages (from grpclib==0.4.3->modal-client->-r requirements.txt (line 11)) (6.0.4)\n",
      "Requirement already satisfied: attrs>=17.3.0 in c:\\users\\supar\\anaconda3\\envs\\cupidgpt\\lib\\site-packages (from aiohttp<4.0,>=3.0->cohere->-r requirements.txt (line 2)) (22.1.0)\n",
      "Requirement already satisfied: charset-normalizer<4.0,>=2.0 in c:\\users\\supar\\anaconda3\\envs\\cupidgpt\\lib\\site-packages (from aiohttp<4.0,>=3.0->cohere->-r requirements.txt (line 2)) (2.0.4)\n",
      "Requirement already satisfied: yarl<2.0,>=1.0 in c:\\users\\supar\\anaconda3\\envs\\cupidgpt\\lib\\site-packages (from aiohttp<4.0,>=3.0->cohere->-r requirements.txt (line 2)) (1.9.2)\n",
      "Requirement already satisfied: frozenlist>=1.1.1 in c:\\users\\supar\\anaconda3\\envs\\cupidgpt\\lib\\site-packages (from aiohttp<4.0,>=3.0->cohere->-r requirements.txt (line 2)) (1.4.0)\n",
      "Requirement already satisfied: aiosignal>=1.1.2 in c:\\users\\supar\\anaconda3\\envs\\cupidgpt\\lib\\site-packages (from aiohttp<4.0,>=3.0->cohere->-r requirements.txt (line 2)) (1.3.1)\n",
      "Requirement already satisfied: colorama in c:\\users\\supar\\anaconda3\\envs\\cupidgpt\\lib\\site-packages (from click->tfds-nightly->-r requirements.txt (line 5)) (0.4.6)\n",
      "Requirement already satisfied: marshmallow<4.0.0,>=3.18.0 in c:\\users\\supar\\anaconda3\\envs\\cupidgpt\\lib\\site-packages (from dataclasses-json<0.6.0,>=0.5.7->langchain->-r requirements.txt (line 3)) (3.20.1)\n",
      "Requirement already satisfied: typing-inspect<1,>=0.4.0 in c:\\users\\supar\\anaconda3\\envs\\cupidgpt\\lib\\site-packages (from dataclasses-json<0.6.0,>=0.5.7->langchain->-r requirements.txt (line 3)) (0.9.0)\n",
      "Requirement already satisfied: importlib_resources in c:\\users\\supar\\anaconda3\\envs\\cupidgpt\\lib\\site-packages (from etils[enp,epath,etree]>=0.9.0->tfds-nightly->-r requirements.txt (line 5)) (6.0.1)\n",
      "Requirement already satisfied: zipp in c:\\users\\supar\\anaconda3\\envs\\cupidgpt\\lib\\site-packages (from etils[enp,epath,etree]>=0.9.0->tfds-nightly->-r requirements.txt (line 5)) (3.16.2)\n",
      "Requirement already satisfied: setuptools in c:\\users\\supar\\anaconda3\\envs\\cupidgpt\\lib\\site-packages (from grpcio-tools>=1.41.0->qdrant-client->-r requirements.txt (line 4)) (68.0.0)\n",
      "Requirement already satisfied: httpcore<0.18.0,>=0.15.0 in c:\\users\\supar\\anaconda3\\envs\\cupidgpt\\lib\\site-packages (from httpx[http2]>=0.14.0->qdrant-client->-r requirements.txt (line 4)) (0.17.3)\n",
      "Requirement already satisfied: idna in c:\\users\\supar\\anaconda3\\envs\\cupidgpt\\lib\\site-packages (from httpx[http2]>=0.14.0->qdrant-client->-r requirements.txt (line 4)) (3.4)\n",
      "Requirement already satisfied: sniffio in c:\\users\\supar\\anaconda3\\envs\\cupidgpt\\lib\\site-packages (from httpx[http2]>=0.14.0->qdrant-client->-r requirements.txt (line 4)) (1.2.0)\n",
      "Requirement already satisfied: pywin32>=226 in c:\\users\\supar\\anaconda3\\envs\\cupidgpt\\lib\\site-packages (from portalocker<3.0.0,>=2.7.0->qdrant-client->-r requirements.txt (line 4)) (305.1)\n",
      "Requirement already satisfied: annotated-types>=0.4.0 in c:\\users\\supar\\anaconda3\\envs\\cupidgpt\\lib\\site-packages (from pydantic<3,>=1->langchain->-r requirements.txt (line 3)) (0.5.0)\n",
      "Requirement already satisfied: pydantic-core==2.6.3 in c:\\users\\supar\\anaconda3\\envs\\cupidgpt\\lib\\site-packages (from pydantic<3,>=1->langchain->-r requirements.txt (line 3)) (2.6.3)\n",
      "Requirement already satisfied: six>=1.5 in c:\\users\\supar\\anaconda3\\envs\\cupidgpt\\lib\\site-packages (from python-dateutil>=2.8.2->pandas->-r requirements.txt (line 8)) (1.16.0)\n",
      "Requirement already satisfied: markdown-it-py>=2.2.0 in c:\\users\\supar\\anaconda3\\envs\\cupidgpt\\lib\\site-packages (from rich>=12.0.0->modal-client->-r requirements.txt (line 11)) (3.0.0)\n",
      "Requirement already satisfied: pygments<3.0.0,>=2.13.0 in c:\\users\\supar\\anaconda3\\envs\\cupidgpt\\lib\\site-packages (from rich>=12.0.0->modal-client->-r requirements.txt (line 11)) (2.15.1)\n",
      "Requirement already satisfied: greenlet!=0.4.17 in c:\\users\\supar\\anaconda3\\envs\\cupidgpt\\lib\\site-packages (from SQLAlchemy<3,>=1.4->langchain->-r requirements.txt (line 3)) (2.0.2)\n",
      "Requirement already satisfied: sigtools==4.0.1 in c:\\users\\supar\\anaconda3\\envs\\cupidgpt\\lib\\site-packages (from synchronicity~=0.5.3->modal-client->-r requirements.txt (line 11)) (4.0.1)\n",
      "Requirement already satisfied: starlette<0.28.0,>=0.27.0 in c:\\users\\supar\\anaconda3\\envs\\cupidgpt\\lib\\site-packages (from fastapi->modal-client->-r requirements.txt (line 11)) (0.27.0)\n",
      "Requirement already satisfied: comm>=0.1.1 in c:\\users\\supar\\anaconda3\\envs\\cupidgpt\\lib\\site-packages (from ipykernel->jupyter->-r requirements.txt (line 1)) (0.1.2)\n",
      "Requirement already satisfied: debugpy>=1.6.5 in c:\\users\\supar\\anaconda3\\envs\\cupidgpt\\lib\\site-packages (from ipykernel->jupyter->-r requirements.txt (line 1)) (1.6.7)\n",
      "Requirement already satisfied: ipython>=7.23.1 in c:\\users\\supar\\anaconda3\\envs\\cupidgpt\\lib\\site-packages (from ipykernel->jupyter->-r requirements.txt (line 1)) (8.12.2)\n",
      "Requirement already satisfied: jupyter-client>=6.1.12 in c:\\users\\supar\\anaconda3\\envs\\cupidgpt\\lib\\site-packages (from ipykernel->jupyter->-r requirements.txt (line 1)) (7.4.9)\n",
      "Requirement already satisfied: jupyter-core!=5.0.*,>=4.12 in c:\\users\\supar\\anaconda3\\envs\\cupidgpt\\lib\\site-packages (from ipykernel->jupyter->-r requirements.txt (line 1)) (5.3.0)\n",
      "Requirement already satisfied: matplotlib-inline>=0.1 in c:\\users\\supar\\anaconda3\\envs\\cupidgpt\\lib\\site-packages (from ipykernel->jupyter->-r requirements.txt (line 1)) (0.1.6)\n",
      "Requirement already satisfied: nest-asyncio in c:\\users\\supar\\anaconda3\\envs\\cupidgpt\\lib\\site-packages (from ipykernel->jupyter->-r requirements.txt (line 1)) (1.5.6)\n",
      "Requirement already satisfied: packaging in c:\\users\\supar\\anaconda3\\envs\\cupidgpt\\lib\\site-packages (from ipykernel->jupyter->-r requirements.txt (line 1)) (23.0)\n",
      "Requirement already satisfied: pyzmq>=20 in c:\\users\\supar\\anaconda3\\envs\\cupidgpt\\lib\\site-packages (from ipykernel->jupyter->-r requirements.txt (line 1)) (23.2.0)\n",
      "Requirement already satisfied: tornado>=6.1 in c:\\users\\supar\\anaconda3\\envs\\cupidgpt\\lib\\site-packages (from ipykernel->jupyter->-r requirements.txt (line 1)) (6.3.2)\n",
      "Requirement already satisfied: traitlets>=5.4.0 in c:\\users\\supar\\anaconda3\\envs\\cupidgpt\\lib\\site-packages (from ipykernel->jupyter->-r requirements.txt (line 1)) (5.7.1)\n",
      "Requirement already satisfied: widgetsnbextension~=4.0 in c:\\users\\supar\\anaconda3\\envs\\cupidgpt\\lib\\site-packages (from ipywidgets->jupyter->-r requirements.txt (line 1)) (4.0.5)\n",
      "Requirement already satisfied: jupyterlab-widgets~=3.0 in c:\\users\\supar\\anaconda3\\envs\\cupidgpt\\lib\\site-packages (from ipywidgets->jupyter->-r requirements.txt (line 1)) (3.0.5)\n",
      "Requirement already satisfied: prompt-toolkit>=3.0.30 in c:\\users\\supar\\anaconda3\\envs\\cupidgpt\\lib\\site-packages (from jupyter-console->jupyter->-r requirements.txt (line 1)) (3.0.36)\n",
      "Requirement already satisfied: lxml in c:\\users\\supar\\anaconda3\\envs\\cupidgpt\\lib\\site-packages (from nbconvert->jupyter->-r requirements.txt (line 1)) (4.9.2)\n",
      "Requirement already satisfied: beautifulsoup4 in c:\\users\\supar\\anaconda3\\envs\\cupidgpt\\lib\\site-packages (from nbconvert->jupyter->-r requirements.txt (line 1)) (4.12.2)\n",
      "Requirement already satisfied: bleach in c:\\users\\supar\\anaconda3\\envs\\cupidgpt\\lib\\site-packages (from nbconvert->jupyter->-r requirements.txt (line 1)) (4.1.0)\n",
      "Requirement already satisfied: defusedxml in c:\\users\\supar\\anaconda3\\envs\\cupidgpt\\lib\\site-packages (from nbconvert->jupyter->-r requirements.txt (line 1)) (0.7.1)\n",
      "Requirement already satisfied: entrypoints>=0.2.2 in c:\\users\\supar\\anaconda3\\envs\\cupidgpt\\lib\\site-packages (from nbconvert->jupyter->-r requirements.txt (line 1)) (0.4)\n",
      "Requirement already satisfied: jinja2>=3.0 in c:\\users\\supar\\anaconda3\\envs\\cupidgpt\\lib\\site-packages (from nbconvert->jupyter->-r requirements.txt (line 1)) (3.1.2)\n",
      "Requirement already satisfied: jupyterlab-pygments in c:\\users\\supar\\anaconda3\\envs\\cupidgpt\\lib\\site-packages (from nbconvert->jupyter->-r requirements.txt (line 1)) (0.1.2)\n",
      "Requirement already satisfied: MarkupSafe>=2.0 in c:\\users\\supar\\anaconda3\\envs\\cupidgpt\\lib\\site-packages (from nbconvert->jupyter->-r requirements.txt (line 1)) (2.1.1)\n",
      "Requirement already satisfied: mistune<2,>=0.8.1 in c:\\users\\supar\\anaconda3\\envs\\cupidgpt\\lib\\site-packages (from nbconvert->jupyter->-r requirements.txt (line 1)) (0.8.4)\n",
      "Requirement already satisfied: nbclient>=0.5.0 in c:\\users\\supar\\anaconda3\\envs\\cupidgpt\\lib\\site-packages (from nbconvert->jupyter->-r requirements.txt (line 1)) (0.5.13)\n",
      "Requirement already satisfied: nbformat>=5.1 in c:\\users\\supar\\anaconda3\\envs\\cupidgpt\\lib\\site-packages (from nbconvert->jupyter->-r requirements.txt (line 1)) (5.7.0)\n",
      "Requirement already satisfied: pandocfilters>=1.4.1 in c:\\users\\supar\\anaconda3\\envs\\cupidgpt\\lib\\site-packages (from nbconvert->jupyter->-r requirements.txt (line 1)) (1.5.0)\n",
      "Requirement already satisfied: tinycss2 in c:\\users\\supar\\anaconda3\\envs\\cupidgpt\\lib\\site-packages (from nbconvert->jupyter->-r requirements.txt (line 1)) (1.2.1)\n",
      "Requirement already satisfied: argon2-cffi in c:\\users\\supar\\anaconda3\\envs\\cupidgpt\\lib\\site-packages (from notebook->jupyter->-r requirements.txt (line 1)) (21.3.0)\n",
      "Requirement already satisfied: ipython-genutils in c:\\users\\supar\\anaconda3\\envs\\cupidgpt\\lib\\site-packages (from notebook->jupyter->-r requirements.txt (line 1)) (0.2.0)\n",
      "Requirement already satisfied: Send2Trash>=1.8.0 in c:\\users\\supar\\anaconda3\\envs\\cupidgpt\\lib\\site-packages (from notebook->jupyter->-r requirements.txt (line 1)) (1.8.0)\n",
      "Requirement already satisfied: terminado>=0.8.3 in c:\\users\\supar\\anaconda3\\envs\\cupidgpt\\lib\\site-packages (from notebook->jupyter->-r requirements.txt (line 1)) (0.17.1)\n",
      "Requirement already satisfied: prometheus-client in c:\\users\\supar\\anaconda3\\envs\\cupidgpt\\lib\\site-packages (from notebook->jupyter->-r requirements.txt (line 1)) (0.14.1)\n",
      "Requirement already satisfied: nbclassic>=0.4.7 in c:\\users\\supar\\anaconda3\\envs\\cupidgpt\\lib\\site-packages (from notebook->jupyter->-r requirements.txt (line 1)) (0.5.5)\n",
      "Requirement already satisfied: qtpy>=2.0.1 in c:\\users\\supar\\anaconda3\\envs\\cupidgpt\\lib\\site-packages (from qtconsole->jupyter->-r requirements.txt (line 1)) (2.2.0)\n",
      "Requirement already satisfied: googleapis-common-protos<2,>=1.52.0 in c:\\users\\supar\\anaconda3\\envs\\cupidgpt\\lib\\site-packages (from tensorflow-metadata->tfds-nightly->-r requirements.txt (line 5)) (1.60.0)\n",
      "Requirement already satisfied: anyio>=3.0.0 in c:\\users\\supar\\anaconda3\\envs\\cupidgpt\\lib\\site-packages (from watchfiles->modal-client->-r requirements.txt (line 11)) (3.5.0)\n",
      "Requirement already satisfied: hyperframe<7,>=6.0 in c:\\users\\supar\\anaconda3\\envs\\cupidgpt\\lib\\site-packages (from h2<5,>=3.1.0->grpclib==0.4.3->modal-client->-r requirements.txt (line 11)) (6.0.1)\n",
      "Requirement already satisfied: hpack<5,>=4.0 in c:\\users\\supar\\anaconda3\\envs\\cupidgpt\\lib\\site-packages (from h2<5,>=3.1.0->grpclib==0.4.3->modal-client->-r requirements.txt (line 11)) (4.0.0)\n",
      "Requirement already satisfied: h11<0.15,>=0.13 in c:\\users\\supar\\anaconda3\\envs\\cupidgpt\\lib\\site-packages (from httpcore<0.18.0,>=0.15.0->httpx[http2]>=0.14.0->qdrant-client->-r requirements.txt (line 4)) (0.14.0)\n",
      "Requirement already satisfied: backcall in c:\\users\\supar\\anaconda3\\envs\\cupidgpt\\lib\\site-packages (from ipython>=7.23.1->ipykernel->jupyter->-r requirements.txt (line 1)) (0.2.0)\n",
      "Requirement already satisfied: decorator in c:\\users\\supar\\anaconda3\\envs\\cupidgpt\\lib\\site-packages (from ipython>=7.23.1->ipykernel->jupyter->-r requirements.txt (line 1)) (5.1.1)\n",
      "Requirement already satisfied: jedi>=0.16 in c:\\users\\supar\\anaconda3\\envs\\cupidgpt\\lib\\site-packages (from ipython>=7.23.1->ipykernel->jupyter->-r requirements.txt (line 1)) (0.18.1)\n",
      "Requirement already satisfied: pickleshare in c:\\users\\supar\\anaconda3\\envs\\cupidgpt\\lib\\site-packages (from ipython>=7.23.1->ipykernel->jupyter->-r requirements.txt (line 1)) (0.7.5)\n",
      "Requirement already satisfied: stack-data in c:\\users\\supar\\anaconda3\\envs\\cupidgpt\\lib\\site-packages (from ipython>=7.23.1->ipykernel->jupyter->-r requirements.txt (line 1)) (0.2.0)\n",
      "Requirement already satisfied: platformdirs>=2.5 in c:\\users\\supar\\anaconda3\\envs\\cupidgpt\\lib\\site-packages (from jupyter-core!=5.0.*,>=4.12->ipykernel->jupyter->-r requirements.txt (line 1)) (3.10.0)\n",
      "Requirement already satisfied: mdurl~=0.1 in c:\\users\\supar\\anaconda3\\envs\\cupidgpt\\lib\\site-packages (from markdown-it-py>=2.2.0->rich>=12.0.0->modal-client->-r requirements.txt (line 11)) (0.1.2)\n",
      "Requirement already satisfied: jupyter-server>=1.8 in c:\\users\\supar\\anaconda3\\envs\\cupidgpt\\lib\\site-packages (from nbclassic>=0.4.7->notebook->jupyter->-r requirements.txt (line 1)) (1.23.4)\n",
      "Requirement already satisfied: notebook-shim>=0.1.0 in c:\\users\\supar\\anaconda3\\envs\\cupidgpt\\lib\\site-packages (from nbclassic>=0.4.7->notebook->jupyter->-r requirements.txt (line 1)) (0.2.2)\n",
      "Requirement already satisfied: fastjsonschema in c:\\users\\supar\\anaconda3\\envs\\cupidgpt\\lib\\site-packages (from nbformat>=5.1->nbconvert->jupyter->-r requirements.txt (line 1)) (2.16.2)\n",
      "Requirement already satisfied: jsonschema>=2.6 in c:\\users\\supar\\anaconda3\\envs\\cupidgpt\\lib\\site-packages (from nbformat>=5.1->nbconvert->jupyter->-r requirements.txt (line 1)) (4.17.3)\n",
      "Requirement already satisfied: wcwidth in c:\\users\\supar\\anaconda3\\envs\\cupidgpt\\lib\\site-packages (from prompt-toolkit>=3.0.30->jupyter-console->jupyter->-r requirements.txt (line 1)) (0.2.5)\n",
      "Requirement already satisfied: pywinpty>=1.1.0 in c:\\users\\supar\\anaconda3\\envs\\cupidgpt\\lib\\site-packages (from terminado>=0.8.3->notebook->jupyter->-r requirements.txt (line 1)) (2.0.10)\n",
      "Requirement already satisfied: mypy-extensions>=0.3.0 in c:\\users\\supar\\anaconda3\\envs\\cupidgpt\\lib\\site-packages (from typing-inspect<1,>=0.4.0->dataclasses-json<0.6.0,>=0.5.7->langchain->-r requirements.txt (line 3)) (1.0.0)\n",
      "Requirement already satisfied: argon2-cffi-bindings in c:\\users\\supar\\anaconda3\\envs\\cupidgpt\\lib\\site-packages (from argon2-cffi->notebook->jupyter->-r requirements.txt (line 1)) (21.2.0)\n",
      "Requirement already satisfied: soupsieve>1.2 in c:\\users\\supar\\anaconda3\\envs\\cupidgpt\\lib\\site-packages (from beautifulsoup4->nbconvert->jupyter->-r requirements.txt (line 1)) (2.4)\n",
      "Requirement already satisfied: webencodings in c:\\users\\supar\\anaconda3\\envs\\cupidgpt\\lib\\site-packages (from bleach->nbconvert->jupyter->-r requirements.txt (line 1)) (0.5.1)\n",
      "Requirement already satisfied: parso<0.9.0,>=0.8.0 in c:\\users\\supar\\anaconda3\\envs\\cupidgpt\\lib\\site-packages (from jedi>=0.16->ipython>=7.23.1->ipykernel->jupyter->-r requirements.txt (line 1)) (0.8.3)\n",
      "Requirement already satisfied: pyrsistent!=0.17.0,!=0.17.1,!=0.17.2,>=0.14.0 in c:\\users\\supar\\anaconda3\\envs\\cupidgpt\\lib\\site-packages (from jsonschema>=2.6->nbformat>=5.1->nbconvert->jupyter->-r requirements.txt (line 1)) (0.18.0)\n",
      "Requirement already satisfied: websocket-client in c:\\users\\supar\\anaconda3\\envs\\cupidgpt\\lib\\site-packages (from jupyter-server>=1.8->nbclassic>=0.4.7->notebook->jupyter->-r requirements.txt (line 1)) (0.58.0)\n",
      "Requirement already satisfied: cffi>=1.0.1 in c:\\users\\supar\\anaconda3\\envs\\cupidgpt\\lib\\site-packages (from argon2-cffi-bindings->argon2-cffi->notebook->jupyter->-r requirements.txt (line 1)) (1.15.1)\n",
      "Requirement already satisfied: executing in c:\\users\\supar\\anaconda3\\envs\\cupidgpt\\lib\\site-packages (from stack-data->ipython>=7.23.1->ipykernel->jupyter->-r requirements.txt (line 1)) (0.8.3)\n",
      "Requirement already satisfied: asttokens in c:\\users\\supar\\anaconda3\\envs\\cupidgpt\\lib\\site-packages (from stack-data->ipython>=7.23.1->ipykernel->jupyter->-r requirements.txt (line 1)) (2.0.5)\n",
      "Requirement already satisfied: pure-eval in c:\\users\\supar\\anaconda3\\envs\\cupidgpt\\lib\\site-packages (from stack-data->ipython>=7.23.1->ipykernel->jupyter->-r requirements.txt (line 1)) (0.2.2)\n",
      "Requirement already satisfied: pycparser in c:\\users\\supar\\anaconda3\\envs\\cupidgpt\\lib\\site-packages (from cffi>=1.0.1->argon2-cffi-bindings->argon2-cffi->notebook->jupyter->-r requirements.txt (line 1)) (2.21)\n"
     ]
    }
   ],
   "source": [
    "! pip install -r requirements.txt"
   ]
  },
  {
   "cell_type": "code",
   "execution_count": 2,
   "metadata": {},
   "outputs": [
    {
     "name": "stdout",
     "output_type": "stream",
     "text": [
      "Requirement already satisfied: cohere in c:\\users\\supar\\anaconda3\\envs\\cupidgpt\\lib\\site-packages (4.21)\n",
      "Requirement already satisfied: langchain in c:\\users\\supar\\anaconda3\\envs\\cupidgpt\\lib\\site-packages (0.0.274)\n",
      "Requirement already satisfied: qdrant-client in c:\\users\\supar\\anaconda3\\envs\\cupidgpt\\lib\\site-packages (1.4.0)\n",
      "Requirement already satisfied: tfds-nightly in c:\\users\\supar\\anaconda3\\envs\\cupidgpt\\lib\\site-packages (4.9.2.dev202308260043)\n",
      "Requirement already satisfied: python-dotenv in c:\\users\\supar\\anaconda3\\envs\\cupidgpt\\lib\\site-packages (1.0.0)\n",
      "Requirement already satisfied: pymongo in c:\\users\\supar\\anaconda3\\envs\\cupidgpt\\lib\\site-packages (4.5.0)\n",
      "Requirement already satisfied: pandas in c:\\users\\supar\\anaconda3\\envs\\cupidgpt\\lib\\site-packages (2.0.3)\n",
      "Requirement already satisfied: numpy in c:\\users\\supar\\anaconda3\\envs\\cupidgpt\\lib\\site-packages (1.25.2)\n",
      "Requirement already satisfied: modal in c:\\users\\supar\\anaconda3\\envs\\cupidgpt\\lib\\site-packages (0.51.3197)\n",
      "Requirement already satisfied: modal-client in c:\\users\\supar\\anaconda3\\envs\\cupidgpt\\lib\\site-packages (0.51.3197)\n",
      "Requirement already satisfied: aiohttp<4.0,>=3.0 in c:\\users\\supar\\anaconda3\\envs\\cupidgpt\\lib\\site-packages (from cohere) (3.8.5)\n",
      "Requirement already satisfied: backoff<3.0,>=2.0 in c:\\users\\supar\\anaconda3\\envs\\cupidgpt\\lib\\site-packages (from cohere) (2.2.1)\n",
      "Requirement already satisfied: fastavro==1.8.2 in c:\\users\\supar\\anaconda3\\envs\\cupidgpt\\lib\\site-packages (from cohere) (1.8.2)\n",
      "Requirement already satisfied: importlib_metadata<7.0,>=6.0 in c:\\users\\supar\\anaconda3\\envs\\cupidgpt\\lib\\site-packages (from cohere) (6.8.0)\n",
      "Requirement already satisfied: requests<3.0.0,>=2.25.0 in c:\\users\\supar\\anaconda3\\envs\\cupidgpt\\lib\\site-packages (from cohere) (2.31.0)\n",
      "Requirement already satisfied: urllib3<3,>=1.26 in c:\\users\\supar\\anaconda3\\envs\\cupidgpt\\lib\\site-packages (from cohere) (1.26.16)\n",
      "Requirement already satisfied: PyYAML>=5.3 in c:\\users\\supar\\anaconda3\\envs\\cupidgpt\\lib\\site-packages (from langchain) (6.0)\n",
      "Requirement already satisfied: SQLAlchemy<3,>=1.4 in c:\\users\\supar\\anaconda3\\envs\\cupidgpt\\lib\\site-packages (from langchain) (2.0.20)\n",
      "Requirement already satisfied: async-timeout<5.0.0,>=4.0.0 in c:\\users\\supar\\anaconda3\\envs\\cupidgpt\\lib\\site-packages (from langchain) (4.0.3)\n",
      "Requirement already satisfied: dataclasses-json<0.6.0,>=0.5.7 in c:\\users\\supar\\anaconda3\\envs\\cupidgpt\\lib\\site-packages (from langchain) (0.5.14)\n",
      "Requirement already satisfied: langsmith<0.1.0,>=0.0.21 in c:\\users\\supar\\anaconda3\\envs\\cupidgpt\\lib\\site-packages (from langchain) (0.0.26)\n",
      "Requirement already satisfied: numexpr<3.0.0,>=2.8.4 in c:\\users\\supar\\anaconda3\\envs\\cupidgpt\\lib\\site-packages (from langchain) (2.8.5)\n",
      "Requirement already satisfied: pydantic<3,>=1 in c:\\users\\supar\\anaconda3\\envs\\cupidgpt\\lib\\site-packages (from langchain) (2.3.0)\n",
      "Requirement already satisfied: tenacity<9.0.0,>=8.1.0 in c:\\users\\supar\\anaconda3\\envs\\cupidgpt\\lib\\site-packages (from langchain) (8.2.3)\n",
      "Requirement already satisfied: grpcio>=1.41.0 in c:\\users\\supar\\anaconda3\\envs\\cupidgpt\\lib\\site-packages (from qdrant-client) (1.57.0)\n",
      "Requirement already satisfied: grpcio-tools>=1.41.0 in c:\\users\\supar\\anaconda3\\envs\\cupidgpt\\lib\\site-packages (from qdrant-client) (1.57.0)\n",
      "Requirement already satisfied: httpx[http2]>=0.14.0 in c:\\users\\supar\\anaconda3\\envs\\cupidgpt\\lib\\site-packages (from qdrant-client) (0.24.1)\n",
      "Requirement already satisfied: portalocker<3.0.0,>=2.7.0 in c:\\users\\supar\\anaconda3\\envs\\cupidgpt\\lib\\site-packages (from qdrant-client) (2.7.0)\n",
      "Requirement already satisfied: absl-py in c:\\users\\supar\\anaconda3\\envs\\cupidgpt\\lib\\site-packages (from tfds-nightly) (1.4.0)\n",
      "Requirement already satisfied: array-record in c:\\users\\supar\\anaconda3\\envs\\cupidgpt\\lib\\site-packages (from tfds-nightly) (0.4.1)\n",
      "Requirement already satisfied: click in c:\\users\\supar\\anaconda3\\envs\\cupidgpt\\lib\\site-packages (from tfds-nightly) (8.1.7)\n",
      "Requirement already satisfied: dm-tree in c:\\users\\supar\\anaconda3\\envs\\cupidgpt\\lib\\site-packages (from tfds-nightly) (0.1.8)\n",
      "Requirement already satisfied: etils[enp,epath,etree]>=0.9.0 in c:\\users\\supar\\anaconda3\\envs\\cupidgpt\\lib\\site-packages (from tfds-nightly) (1.4.1)\n",
      "Requirement already satisfied: promise in c:\\users\\supar\\anaconda3\\envs\\cupidgpt\\lib\\site-packages (from tfds-nightly) (2.3)\n",
      "Requirement already satisfied: protobuf>=3.20 in c:\\users\\supar\\anaconda3\\envs\\cupidgpt\\lib\\site-packages (from tfds-nightly) (4.24.2)\n",
      "Requirement already satisfied: psutil in c:\\users\\supar\\anaconda3\\envs\\cupidgpt\\lib\\site-packages (from tfds-nightly) (5.9.0)\n",
      "Requirement already satisfied: tensorflow-metadata in c:\\users\\supar\\anaconda3\\envs\\cupidgpt\\lib\\site-packages (from tfds-nightly) (1.13.1)\n",
      "Requirement already satisfied: termcolor in c:\\users\\supar\\anaconda3\\envs\\cupidgpt\\lib\\site-packages (from tfds-nightly) (2.3.0)\n",
      "Requirement already satisfied: toml in c:\\users\\supar\\anaconda3\\envs\\cupidgpt\\lib\\site-packages (from tfds-nightly) (0.10.2)\n",
      "Requirement already satisfied: tqdm in c:\\users\\supar\\anaconda3\\envs\\cupidgpt\\lib\\site-packages (from tfds-nightly) (4.66.1)\n",
      "Requirement already satisfied: wrapt in c:\\users\\supar\\anaconda3\\envs\\cupidgpt\\lib\\site-packages (from tfds-nightly) (1.15.0)\n",
      "Requirement already satisfied: dnspython<3.0.0,>=1.16.0 in c:\\users\\supar\\anaconda3\\envs\\cupidgpt\\lib\\site-packages (from pymongo) (2.4.2)\n",
      "Requirement already satisfied: python-dateutil>=2.8.2 in c:\\users\\supar\\anaconda3\\envs\\cupidgpt\\lib\\site-packages (from pandas) (2.8.2)\n",
      "Requirement already satisfied: pytz>=2020.1 in c:\\users\\supar\\anaconda3\\envs\\cupidgpt\\lib\\site-packages (from pandas) (2022.7)\n",
      "Requirement already satisfied: tzdata>=2022.1 in c:\\users\\supar\\anaconda3\\envs\\cupidgpt\\lib\\site-packages (from pandas) (2023.3)\n",
      "Requirement already satisfied: aiostream in c:\\users\\supar\\anaconda3\\envs\\cupidgpt\\lib\\site-packages (from modal-client) (0.4.5)\n",
      "Requirement already satisfied: asgiref in c:\\users\\supar\\anaconda3\\envs\\cupidgpt\\lib\\site-packages (from modal-client) (3.7.2)\n",
      "Requirement already satisfied: certifi in c:\\users\\supar\\anaconda3\\envs\\cupidgpt\\lib\\site-packages (from modal-client) (2023.7.22)\n",
      "Requirement already satisfied: fastapi in c:\\users\\supar\\anaconda3\\envs\\cupidgpt\\lib\\site-packages (from modal-client) (0.103.0)\n",
      "Requirement already satisfied: grpclib==0.4.3 in c:\\users\\supar\\anaconda3\\envs\\cupidgpt\\lib\\site-packages (from modal-client) (0.4.3)\n",
      "Requirement already satisfied: rich>=12.0.0 in c:\\users\\supar\\anaconda3\\envs\\cupidgpt\\lib\\site-packages (from modal-client) (13.5.2)\n",
      "Requirement already satisfied: synchronicity~=0.5.3 in c:\\users\\supar\\anaconda3\\envs\\cupidgpt\\lib\\site-packages (from modal-client) (0.5.3)\n",
      "Requirement already satisfied: tblib>=1.7.0 in c:\\users\\supar\\anaconda3\\envs\\cupidgpt\\lib\\site-packages (from modal-client) (2.0.0)\n",
      "Requirement already satisfied: typer~=0.9.0 in c:\\users\\supar\\anaconda3\\envs\\cupidgpt\\lib\\site-packages (from modal-client) (0.9.0)\n",
      "Requirement already satisfied: types-certifi in c:\\users\\supar\\anaconda3\\envs\\cupidgpt\\lib\\site-packages (from modal-client) (2021.10.8.3)\n",
      "Requirement already satisfied: types-toml in c:\\users\\supar\\anaconda3\\envs\\cupidgpt\\lib\\site-packages (from modal-client) (0.10.8.7)\n",
      "Requirement already satisfied: watchfiles in c:\\users\\supar\\anaconda3\\envs\\cupidgpt\\lib\\site-packages (from modal-client) (0.20.0)\n",
      "Requirement already satisfied: typing-extensions~=4.6 in c:\\users\\supar\\anaconda3\\envs\\cupidgpt\\lib\\site-packages (from modal-client) (4.7.1)\n",
      "Requirement already satisfied: cloudpickle<2.1.0,>=2.0.0 in c:\\users\\supar\\anaconda3\\envs\\cupidgpt\\lib\\site-packages (from modal-client) (2.0.0)\n",
      "Requirement already satisfied: h2<5,>=3.1.0 in c:\\users\\supar\\anaconda3\\envs\\cupidgpt\\lib\\site-packages (from grpclib==0.4.3->modal-client) (4.1.0)\n",
      "Requirement already satisfied: multidict in c:\\users\\supar\\anaconda3\\envs\\cupidgpt\\lib\\site-packages (from grpclib==0.4.3->modal-client) (6.0.4)\n",
      "Requirement already satisfied: attrs>=17.3.0 in c:\\users\\supar\\anaconda3\\envs\\cupidgpt\\lib\\site-packages (from aiohttp<4.0,>=3.0->cohere) (22.1.0)\n",
      "Requirement already satisfied: charset-normalizer<4.0,>=2.0 in c:\\users\\supar\\anaconda3\\envs\\cupidgpt\\lib\\site-packages (from aiohttp<4.0,>=3.0->cohere) (2.0.4)\n",
      "Requirement already satisfied: yarl<2.0,>=1.0 in c:\\users\\supar\\anaconda3\\envs\\cupidgpt\\lib\\site-packages (from aiohttp<4.0,>=3.0->cohere) (1.9.2)\n",
      "Requirement already satisfied: frozenlist>=1.1.1 in c:\\users\\supar\\anaconda3\\envs\\cupidgpt\\lib\\site-packages (from aiohttp<4.0,>=3.0->cohere) (1.4.0)\n",
      "Requirement already satisfied: aiosignal>=1.1.2 in c:\\users\\supar\\anaconda3\\envs\\cupidgpt\\lib\\site-packages (from aiohttp<4.0,>=3.0->cohere) (1.3.1)\n",
      "Requirement already satisfied: colorama in c:\\users\\supar\\anaconda3\\envs\\cupidgpt\\lib\\site-packages (from click->tfds-nightly) (0.4.6)\n",
      "Requirement already satisfied: marshmallow<4.0.0,>=3.18.0 in c:\\users\\supar\\anaconda3\\envs\\cupidgpt\\lib\\site-packages (from dataclasses-json<0.6.0,>=0.5.7->langchain) (3.20.1)\n",
      "Requirement already satisfied: typing-inspect<1,>=0.4.0 in c:\\users\\supar\\anaconda3\\envs\\cupidgpt\\lib\\site-packages (from dataclasses-json<0.6.0,>=0.5.7->langchain) (0.9.0)\n",
      "Requirement already satisfied: importlib_resources in c:\\users\\supar\\anaconda3\\envs\\cupidgpt\\lib\\site-packages (from etils[enp,epath,etree]>=0.9.0->tfds-nightly) (6.0.1)\n",
      "Requirement already satisfied: zipp in c:\\users\\supar\\anaconda3\\envs\\cupidgpt\\lib\\site-packages (from etils[enp,epath,etree]>=0.9.0->tfds-nightly) (3.16.2)\n",
      "Requirement already satisfied: setuptools in c:\\users\\supar\\anaconda3\\envs\\cupidgpt\\lib\\site-packages (from grpcio-tools>=1.41.0->qdrant-client) (68.0.0)\n",
      "Requirement already satisfied: httpcore<0.18.0,>=0.15.0 in c:\\users\\supar\\anaconda3\\envs\\cupidgpt\\lib\\site-packages (from httpx[http2]>=0.14.0->qdrant-client) (0.17.3)\n",
      "Requirement already satisfied: idna in c:\\users\\supar\\anaconda3\\envs\\cupidgpt\\lib\\site-packages (from httpx[http2]>=0.14.0->qdrant-client) (3.4)\n",
      "Requirement already satisfied: sniffio in c:\\users\\supar\\anaconda3\\envs\\cupidgpt\\lib\\site-packages (from httpx[http2]>=0.14.0->qdrant-client) (1.2.0)\n",
      "Requirement already satisfied: pywin32>=226 in c:\\users\\supar\\anaconda3\\envs\\cupidgpt\\lib\\site-packages (from portalocker<3.0.0,>=2.7.0->qdrant-client) (305.1)\n",
      "Requirement already satisfied: annotated-types>=0.4.0 in c:\\users\\supar\\anaconda3\\envs\\cupidgpt\\lib\\site-packages (from pydantic<3,>=1->langchain) (0.5.0)\n",
      "Requirement already satisfied: pydantic-core==2.6.3 in c:\\users\\supar\\anaconda3\\envs\\cupidgpt\\lib\\site-packages (from pydantic<3,>=1->langchain) (2.6.3)\n",
      "Requirement already satisfied: six>=1.5 in c:\\users\\supar\\anaconda3\\envs\\cupidgpt\\lib\\site-packages (from python-dateutil>=2.8.2->pandas) (1.16.0)\n",
      "Requirement already satisfied: markdown-it-py>=2.2.0 in c:\\users\\supar\\anaconda3\\envs\\cupidgpt\\lib\\site-packages (from rich>=12.0.0->modal-client) (3.0.0)\n",
      "Requirement already satisfied: pygments<3.0.0,>=2.13.0 in c:\\users\\supar\\anaconda3\\envs\\cupidgpt\\lib\\site-packages (from rich>=12.0.0->modal-client) (2.15.1)\n",
      "Requirement already satisfied: greenlet!=0.4.17 in c:\\users\\supar\\anaconda3\\envs\\cupidgpt\\lib\\site-packages (from SQLAlchemy<3,>=1.4->langchain) (2.0.2)\n",
      "Requirement already satisfied: sigtools==4.0.1 in c:\\users\\supar\\anaconda3\\envs\\cupidgpt\\lib\\site-packages (from synchronicity~=0.5.3->modal-client) (4.0.1)\n",
      "Requirement already satisfied: starlette<0.28.0,>=0.27.0 in c:\\users\\supar\\anaconda3\\envs\\cupidgpt\\lib\\site-packages (from fastapi->modal-client) (0.27.0)\n",
      "Requirement already satisfied: googleapis-common-protos<2,>=1.52.0 in c:\\users\\supar\\anaconda3\\envs\\cupidgpt\\lib\\site-packages (from tensorflow-metadata->tfds-nightly) (1.60.0)\n",
      "Requirement already satisfied: anyio>=3.0.0 in c:\\users\\supar\\anaconda3\\envs\\cupidgpt\\lib\\site-packages (from watchfiles->modal-client) (3.5.0)\n",
      "Requirement already satisfied: hyperframe<7,>=6.0 in c:\\users\\supar\\anaconda3\\envs\\cupidgpt\\lib\\site-packages (from h2<5,>=3.1.0->grpclib==0.4.3->modal-client) (6.0.1)\n",
      "Requirement already satisfied: hpack<5,>=4.0 in c:\\users\\supar\\anaconda3\\envs\\cupidgpt\\lib\\site-packages (from h2<5,>=3.1.0->grpclib==0.4.3->modal-client) (4.0.0)\n",
      "Requirement already satisfied: h11<0.15,>=0.13 in c:\\users\\supar\\anaconda3\\envs\\cupidgpt\\lib\\site-packages (from httpcore<0.18.0,>=0.15.0->httpx[http2]>=0.14.0->qdrant-client) (0.14.0)\n",
      "Requirement already satisfied: mdurl~=0.1 in c:\\users\\supar\\anaconda3\\envs\\cupidgpt\\lib\\site-packages (from markdown-it-py>=2.2.0->rich>=12.0.0->modal-client) (0.1.2)\n",
      "Requirement already satisfied: packaging>=17.0 in c:\\users\\supar\\anaconda3\\envs\\cupidgpt\\lib\\site-packages (from marshmallow<4.0.0,>=3.18.0->dataclasses-json<0.6.0,>=0.5.7->langchain) (23.0)\n",
      "Requirement already satisfied: mypy-extensions>=0.3.0 in c:\\users\\supar\\anaconda3\\envs\\cupidgpt\\lib\\site-packages (from typing-inspect<1,>=0.4.0->dataclasses-json<0.6.0,>=0.5.7->langchain) (1.0.0)\n"
     ]
    }
   ],
   "source": [
    "! pip install cohere langchain qdrant-client tfds-nightly python-dotenv pymongo pandas numpy modal modal-client"
   ]
  },
  {
   "cell_type": "code",
   "execution_count": 6,
   "metadata": {},
   "outputs": [],
   "source": [
    "\n",
    "from langchain.embeddings.cohere import CohereEmbeddings\n",
    "from langchain.llms import Cohere\n",
    "from langchain.prompts import PromptTemplate\n",
    "from langchain.text_splitter import RecursiveCharacterTextSplitter\n",
    "from langchain.chains.question_answering import load_qa_chain\n",
    "from langchain.chains import RetrievalQA\n",
    "from langchain.vectorstores import Qdrant\n",
    "from langchain.document_loaders import TextLoader\n",
    "from langchain import PromptTemplate, LLMChain\n",
    "import textwrap as tr\n",
    "import random\n",
    "import dotenv\n",
    "import os\n",
    "import pymongo\n",
    "import pandas as pd\n",
    "from tqdm import tqdm\n",
    "\n",
    "dotenv.load_dotenv(\".env\")\n",
    "\n",
    "COHERE_API_KEY = os.getenv(\"COHERE_API_KEY\")\n",
    "MONGO_URI = os.getenv(\"MONGO_URI\")\n",
    "\n",
    "mongodb_client = pymongo.MongoClient(MONGO_URI, serverSelectionTimeoutMS=3_600_000)\n",
    "\n",
    "# Create dataset and collection\n",
    "db = mongodb_client.cupidgpt\n",
    "collection = db.profiles"
   ]
  },
  {
   "cell_type": "markdown",
   "metadata": {},
   "source": [
    "### Load data into MongoDB"
   ]
  },
  {
   "cell_type": "code",
   "execution_count": 4,
   "metadata": {},
   "outputs": [
    {
     "ename": "FileNotFoundError",
     "evalue": "[Errno 2] No such file or directory: 'data/profile_cleaned.csv'",
     "output_type": "error",
     "traceback": [
      "\u001b[1;31m---------------------------------------------------------------------------\u001b[0m",
      "\u001b[1;31mFileNotFoundError\u001b[0m                         Traceback (most recent call last)",
      "Cell \u001b[1;32mIn[4], line 1\u001b[0m\n\u001b[1;32m----> 1\u001b[0m df \u001b[39m=\u001b[39m pd\u001b[39m.\u001b[39;49mread_csv(\u001b[39m\"\u001b[39;49m\u001b[39mdata/profile_cleaned.csv\u001b[39;49m\u001b[39m\"\u001b[39;49m)\n\u001b[0;32m      2\u001b[0m df\u001b[39m.\u001b[39mhead()\n",
      "File \u001b[1;32mc:\\Users\\supar\\anaconda3\\envs\\cupidgpt\\lib\\site-packages\\pandas\\io\\parsers\\readers.py:912\u001b[0m, in \u001b[0;36mread_csv\u001b[1;34m(filepath_or_buffer, sep, delimiter, header, names, index_col, usecols, dtype, engine, converters, true_values, false_values, skipinitialspace, skiprows, skipfooter, nrows, na_values, keep_default_na, na_filter, verbose, skip_blank_lines, parse_dates, infer_datetime_format, keep_date_col, date_parser, date_format, dayfirst, cache_dates, iterator, chunksize, compression, thousands, decimal, lineterminator, quotechar, quoting, doublequote, escapechar, comment, encoding, encoding_errors, dialect, on_bad_lines, delim_whitespace, low_memory, memory_map, float_precision, storage_options, dtype_backend)\u001b[0m\n\u001b[0;32m    899\u001b[0m kwds_defaults \u001b[39m=\u001b[39m _refine_defaults_read(\n\u001b[0;32m    900\u001b[0m     dialect,\n\u001b[0;32m    901\u001b[0m     delimiter,\n\u001b[1;32m   (...)\u001b[0m\n\u001b[0;32m    908\u001b[0m     dtype_backend\u001b[39m=\u001b[39mdtype_backend,\n\u001b[0;32m    909\u001b[0m )\n\u001b[0;32m    910\u001b[0m kwds\u001b[39m.\u001b[39mupdate(kwds_defaults)\n\u001b[1;32m--> 912\u001b[0m \u001b[39mreturn\u001b[39;00m _read(filepath_or_buffer, kwds)\n",
      "File \u001b[1;32mc:\\Users\\supar\\anaconda3\\envs\\cupidgpt\\lib\\site-packages\\pandas\\io\\parsers\\readers.py:577\u001b[0m, in \u001b[0;36m_read\u001b[1;34m(filepath_or_buffer, kwds)\u001b[0m\n\u001b[0;32m    574\u001b[0m _validate_names(kwds\u001b[39m.\u001b[39mget(\u001b[39m\"\u001b[39m\u001b[39mnames\u001b[39m\u001b[39m\"\u001b[39m, \u001b[39mNone\u001b[39;00m))\n\u001b[0;32m    576\u001b[0m \u001b[39m# Create the parser.\u001b[39;00m\n\u001b[1;32m--> 577\u001b[0m parser \u001b[39m=\u001b[39m TextFileReader(filepath_or_buffer, \u001b[39m*\u001b[39m\u001b[39m*\u001b[39mkwds)\n\u001b[0;32m    579\u001b[0m \u001b[39mif\u001b[39;00m chunksize \u001b[39mor\u001b[39;00m iterator:\n\u001b[0;32m    580\u001b[0m     \u001b[39mreturn\u001b[39;00m parser\n",
      "File \u001b[1;32mc:\\Users\\supar\\anaconda3\\envs\\cupidgpt\\lib\\site-packages\\pandas\\io\\parsers\\readers.py:1407\u001b[0m, in \u001b[0;36mTextFileReader.__init__\u001b[1;34m(self, f, engine, **kwds)\u001b[0m\n\u001b[0;32m   1404\u001b[0m     \u001b[39mself\u001b[39m\u001b[39m.\u001b[39moptions[\u001b[39m\"\u001b[39m\u001b[39mhas_index_names\u001b[39m\u001b[39m\"\u001b[39m] \u001b[39m=\u001b[39m kwds[\u001b[39m\"\u001b[39m\u001b[39mhas_index_names\u001b[39m\u001b[39m\"\u001b[39m]\n\u001b[0;32m   1406\u001b[0m \u001b[39mself\u001b[39m\u001b[39m.\u001b[39mhandles: IOHandles \u001b[39m|\u001b[39m \u001b[39mNone\u001b[39;00m \u001b[39m=\u001b[39m \u001b[39mNone\u001b[39;00m\n\u001b[1;32m-> 1407\u001b[0m \u001b[39mself\u001b[39m\u001b[39m.\u001b[39m_engine \u001b[39m=\u001b[39m \u001b[39mself\u001b[39;49m\u001b[39m.\u001b[39;49m_make_engine(f, \u001b[39mself\u001b[39;49m\u001b[39m.\u001b[39;49mengine)\n",
      "File \u001b[1;32mc:\\Users\\supar\\anaconda3\\envs\\cupidgpt\\lib\\site-packages\\pandas\\io\\parsers\\readers.py:1661\u001b[0m, in \u001b[0;36mTextFileReader._make_engine\u001b[1;34m(self, f, engine)\u001b[0m\n\u001b[0;32m   1659\u001b[0m     \u001b[39mif\u001b[39;00m \u001b[39m\"\u001b[39m\u001b[39mb\u001b[39m\u001b[39m\"\u001b[39m \u001b[39mnot\u001b[39;00m \u001b[39min\u001b[39;00m mode:\n\u001b[0;32m   1660\u001b[0m         mode \u001b[39m+\u001b[39m\u001b[39m=\u001b[39m \u001b[39m\"\u001b[39m\u001b[39mb\u001b[39m\u001b[39m\"\u001b[39m\n\u001b[1;32m-> 1661\u001b[0m \u001b[39mself\u001b[39m\u001b[39m.\u001b[39mhandles \u001b[39m=\u001b[39m get_handle(\n\u001b[0;32m   1662\u001b[0m     f,\n\u001b[0;32m   1663\u001b[0m     mode,\n\u001b[0;32m   1664\u001b[0m     encoding\u001b[39m=\u001b[39;49m\u001b[39mself\u001b[39;49m\u001b[39m.\u001b[39;49moptions\u001b[39m.\u001b[39;49mget(\u001b[39m\"\u001b[39;49m\u001b[39mencoding\u001b[39;49m\u001b[39m\"\u001b[39;49m, \u001b[39mNone\u001b[39;49;00m),\n\u001b[0;32m   1665\u001b[0m     compression\u001b[39m=\u001b[39;49m\u001b[39mself\u001b[39;49m\u001b[39m.\u001b[39;49moptions\u001b[39m.\u001b[39;49mget(\u001b[39m\"\u001b[39;49m\u001b[39mcompression\u001b[39;49m\u001b[39m\"\u001b[39;49m, \u001b[39mNone\u001b[39;49;00m),\n\u001b[0;32m   1666\u001b[0m     memory_map\u001b[39m=\u001b[39;49m\u001b[39mself\u001b[39;49m\u001b[39m.\u001b[39;49moptions\u001b[39m.\u001b[39;49mget(\u001b[39m\"\u001b[39;49m\u001b[39mmemory_map\u001b[39;49m\u001b[39m\"\u001b[39;49m, \u001b[39mFalse\u001b[39;49;00m),\n\u001b[0;32m   1667\u001b[0m     is_text\u001b[39m=\u001b[39;49mis_text,\n\u001b[0;32m   1668\u001b[0m     errors\u001b[39m=\u001b[39;49m\u001b[39mself\u001b[39;49m\u001b[39m.\u001b[39;49moptions\u001b[39m.\u001b[39;49mget(\u001b[39m\"\u001b[39;49m\u001b[39mencoding_errors\u001b[39;49m\u001b[39m\"\u001b[39;49m, \u001b[39m\"\u001b[39;49m\u001b[39mstrict\u001b[39;49m\u001b[39m\"\u001b[39;49m),\n\u001b[0;32m   1669\u001b[0m     storage_options\u001b[39m=\u001b[39;49m\u001b[39mself\u001b[39;49m\u001b[39m.\u001b[39;49moptions\u001b[39m.\u001b[39;49mget(\u001b[39m\"\u001b[39;49m\u001b[39mstorage_options\u001b[39;49m\u001b[39m\"\u001b[39;49m, \u001b[39mNone\u001b[39;49;00m),\n\u001b[0;32m   1670\u001b[0m )\n\u001b[0;32m   1671\u001b[0m \u001b[39massert\u001b[39;00m \u001b[39mself\u001b[39m\u001b[39m.\u001b[39mhandles \u001b[39mis\u001b[39;00m \u001b[39mnot\u001b[39;00m \u001b[39mNone\u001b[39;00m\n\u001b[0;32m   1672\u001b[0m f \u001b[39m=\u001b[39m \u001b[39mself\u001b[39m\u001b[39m.\u001b[39mhandles\u001b[39m.\u001b[39mhandle\n",
      "File \u001b[1;32mc:\\Users\\supar\\anaconda3\\envs\\cupidgpt\\lib\\site-packages\\pandas\\io\\common.py:859\u001b[0m, in \u001b[0;36mget_handle\u001b[1;34m(path_or_buf, mode, encoding, compression, memory_map, is_text, errors, storage_options)\u001b[0m\n\u001b[0;32m    854\u001b[0m \u001b[39melif\u001b[39;00m \u001b[39misinstance\u001b[39m(handle, \u001b[39mstr\u001b[39m):\n\u001b[0;32m    855\u001b[0m     \u001b[39m# Check whether the filename is to be opened in binary mode.\u001b[39;00m\n\u001b[0;32m    856\u001b[0m     \u001b[39m# Binary mode does not support 'encoding' and 'newline'.\u001b[39;00m\n\u001b[0;32m    857\u001b[0m     \u001b[39mif\u001b[39;00m ioargs\u001b[39m.\u001b[39mencoding \u001b[39mand\u001b[39;00m \u001b[39m\"\u001b[39m\u001b[39mb\u001b[39m\u001b[39m\"\u001b[39m \u001b[39mnot\u001b[39;00m \u001b[39min\u001b[39;00m ioargs\u001b[39m.\u001b[39mmode:\n\u001b[0;32m    858\u001b[0m         \u001b[39m# Encoding\u001b[39;00m\n\u001b[1;32m--> 859\u001b[0m         handle \u001b[39m=\u001b[39m \u001b[39mopen\u001b[39;49m(\n\u001b[0;32m    860\u001b[0m             handle,\n\u001b[0;32m    861\u001b[0m             ioargs\u001b[39m.\u001b[39;49mmode,\n\u001b[0;32m    862\u001b[0m             encoding\u001b[39m=\u001b[39;49mioargs\u001b[39m.\u001b[39;49mencoding,\n\u001b[0;32m    863\u001b[0m             errors\u001b[39m=\u001b[39;49merrors,\n\u001b[0;32m    864\u001b[0m             newline\u001b[39m=\u001b[39;49m\u001b[39m\"\u001b[39;49m\u001b[39m\"\u001b[39;49m,\n\u001b[0;32m    865\u001b[0m         )\n\u001b[0;32m    866\u001b[0m     \u001b[39melse\u001b[39;00m:\n\u001b[0;32m    867\u001b[0m         \u001b[39m# Binary mode\u001b[39;00m\n\u001b[0;32m    868\u001b[0m         handle \u001b[39m=\u001b[39m \u001b[39mopen\u001b[39m(handle, ioargs\u001b[39m.\u001b[39mmode)\n",
      "\u001b[1;31mFileNotFoundError\u001b[0m: [Errno 2] No such file or directory: 'data/profile_cleaned.csv'"
     ]
    }
   ],
   "source": [
    "df = pd.read_csv(\"data/profile_cleaned.csv\")\n",
    "df.head()"
   ]
  },
  {
   "cell_type": "code",
   "execution_count": null,
   "metadata": {},
   "outputs": [
    {
     "data": {
      "text/plain": [
       "<pymongo.results.InsertManyResult at 0x16a025d20>"
      ]
     },
     "execution_count": 13,
     "metadata": {},
     "output_type": "execute_result"
    }
   ],
   "source": [
    "# Save dataframe in MongoDB\n",
    "mongodb_client = pymongo.MongoClient(MONGO_URI, serverSelectionTimeoutMS=3_600_000)\n",
    "\n",
    "# Create dataset and collection\n",
    "db = mongodb_client.cupidgpt\n",
    "collection = db.profiles\n",
    "\n",
    "# Insert dataframe into collection\n",
    "# Insert in batches of 10\n",
    "# for i in range(0, len(df), 10):\n",
    "#     if i+10 < len(df):\n",
    "#         df_batch = df[i:i+10]\n",
    "#     else:\n",
    "#         df_batch = df[i:]\n",
    "#     collection.insert_many(df_batch.to_dict(\"records\"))\n",
    "collection.insert_many(df.to_dict(\"records\"))\n",
    "\n",
    "# Delete all documents in collection\n",
    "# collection.delete_many({})\n",
    "\n",
    "# Get number of items in collection\n",
    "collection.count_documents({})\n",
    "\n"
   ]
  },
  {
   "cell_type": "code",
   "execution_count": null,
   "metadata": {},
   "outputs": [
    {
     "name": "stdout",
     "output_type": "stream",
     "text": [
      "{'_id': ObjectId('64ea6a799c9fa34cea272636'), 'age': 27, 'status': 'single', 'sex': 'male', 'orientation': 'straight', 'body_type': 'thin', 'diet': 'strictly anything', 'drinks': 'drinks socially', 'drugs': 'never does drugs', 'education': 'graduated from college/university', 'ethnicity': 'white', 'height': 69.0, 'income': -1, 'job': 'entertainment / media', 'last_online': '2012-06-24-22-10', 'location': 'san francisco, california', 'offspring': 'Not Available', 'pets': 'likes dogs and likes cats', 'religion': 'atheism and somewhat serious about it', 'sign': 'sagittarius but it doesnot matter', 'smokes': 'smokes when drinking', 'speaks': 'english', 'About_Me': \"i'm a cinematic artist for a video game studio. i love being in a creative environment surrounded by so many talented coworkers who challenge me to always be improving my work. this job has cultivated a strong passion for storytelling which has given me a bigger appetite for movies, books, and tv. i love discussing these and what makes them good or bad, why that story is strong, how the lighting and camera work totally sold that scene, etc.. i'm a cinematic artist for a video game studio. i love being in a creative environment surrounded by so many talented coworkers who challenge me to always be improving my work. this job has cultivated a strong passion for storytelling which has given me a bigger appetite for movies, books, and tv. i love discussing these and what makes them good or bad, why that story is strong, how the lighting and camera work totally sold that scene, etc.. i'm a cinematic artist for a video game studio. i love being in a creative environment surrounded by so many talented coworkers who challenge me to always be improving my work. this job has cultivated a strong passion for storytelling which has given me a bigger appetite for movies, books, and tv. i love discussing these and what makes them good or bad, why that story is strong, how the lighting and camera work totally sold that scene, etc.. i'm a cinematic artist for a video game studio. i love being in a creative environment surrounded by so many talented coworkers who challenge me to always be improving my work. this job has cultivated a strong passion for storytelling which has given me a bigger appetite for movies, books, and tv. i love discussing these and what makes them good or bad, why that story is strong, how the lighting and camera work totally sold that scene, etc.. i'm a cinematic artist for a video game studio. i love being in a creative environment surrounded by so many talented coworkers who challenge me to always be improving my work. this job has cultivated a strong passion for storytelling which has given me a bigger appetite for movies, books, and tv. i love discussing these and what makes them good or bad, why that story is strong, how the lighting and camera work totally sold that scene, etc.. i'm a cinematic artist for a video game studio. i love being in a creative environment surrounded by so many talented coworkers who challenge me to always be improving my work. this job has cultivated a strong passion for storytelling which has given me a bigger appetite for movies, books, and tv. i love discussing these and what makes them good or bad, why that story is strong, how the lighting and camera work totally sold that scene, etc.. i'm a cinematic artist for a video game studio. i love being in a creative environment surrounded by so many talented coworkers who challenge me to always be improving my work. this job has cultivated a strong passion for storytelling which has given me a bigger appetite for movies, books, and tv. i love discussing these and what makes them good or bad, why that story is strong, how the lighting and camera work totally sold that scene, etc.. i'm a cinematic artist for a video game studio. i love being in a creative environment surrounded by so many talented coworkers who challenge me to always be improving my work. this job has cultivated a strong passion for storytelling which has given me a bigger appetite for movies, books, and tv. i love discussing these and what makes them good or bad, why that story is strong, how the lighting and camera work totally sold that scene, etc.. i'm a cinematic artist for a video game studio. i love being in a creative environment surrounded by so many talented coworkers who challenge me to always be improving my work. this job has cultivated a strong passion for storytelling which has given me a bigger appetite for movies, books, and tv. i love discussing these and what makes them good or bad, why that story is strong, how the lighting and camera work totally sold that scene, etc.. i'm a cinematic artist for a video game studio. i love being in a creative environment surrounded by so many talented coworkers who challenge me to always be improving my work. this job has cultivated a strong passion for storytelling which has given me a bigger appetite for movies, books, and tv. i love discussing these and what makes them good or bad, why that story is strong, how the lighting and camera work totally sold that scene, etc.\", 'User_ID': 35}\n"
     ]
    }
   ],
   "source": [
    "# Get user_id 35 from collection\n",
    "print(collection.find_one({\"User_ID\": 35}))\n"
   ]
  },
  {
   "cell_type": "markdown",
   "metadata": {},
   "source": [
    "### Cohere GenAI LLM - Test"
   ]
  },
  {
   "cell_type": "code",
   "execution_count": 13,
   "metadata": {},
   "outputs": [
    {
     "name": "stdout",
     "output_type": "stream",
     "text": [
      " I am a 27-year-old male who is single and straight. I have a thin body type and I follow a strict diet. I drink socially and do not smoke or do drugs. I have a college degree and I work in the entertainment industry. I am white and have a Sagittarius sign. I am 5'9\" and have a good income. I love to discuss movies, books, and TV shows. I am a passionate storyteller and I love being in a creative environment. I am always improving my work and I love being challenged by my coworkers. I am a cinematic artist for a video game studio and I love what I do. I am always up for a good discussion and I love to meet new people. I am a friendly and outgoing person and I am always up for a good time. I am a great listener and I am always there for my friends and family. I am a cinematic artist for a video game studio and I love what I do. I am always up for a good discussion and I love to meet new people. I am a friendly and outgoing person and I am always up for a good time. I love to make people laugh and I love to make people feel good. I am a great friend and I am a great person to be around. I am a cinematic artist for a video game studio and I love what I do. I am always up for a good discussion and I love to meet new people. I am a friendly and outgoing person and I am always up for a good time. I love to make people laugh and I love to make people feel good. I am a great friend and I am a great person to be around. I am a cinematic artist for a video game studio and I love what I do. I am always up for a good discussion and I love to meet new people. I am a friendly and outgoing person and I am always up for a good time. I love to make people laugh and I love to make people feel good. I am a great friend and I am a great person to be around.\n"
     ]
    }
   ],
   "source": [
    "user_profile = \"\"\"\n",
    "Create a descriptive Bio or summary for this user of a dating app. \n",
    "Write it like the person would have written about themselves. Talk about the persons features too\n",
    "Do not include the kind of person they are looking for. Give me 200 words of description\n",
    "Use all fields from the following JSON data.\n",
    "User Data: {user_data}\n",
    "\"\"\"\n",
    "\n",
    "prompt = PromptTemplate(template=user_profile, input_variables=[\"user_data\"])\n",
    "\n",
    "llm = Cohere(cohere_api_key=COHERE_API_KEY, model=\"command\", max_tokens=1000, temperature=0.8)\n",
    "llm_chain = LLMChain(prompt=prompt, llm=llm)\n",
    "\n",
    "# Get user_id 35 from collection\n",
    "user_data = collection.find_one({\"User_ID\": 35})\n",
    "print(llm_chain.run(user_data=user_data))\n",
    "\n",
    "\n"
   ]
  },
  {
   "cell_type": "code",
   "execution_count": 22,
   "metadata": {},
   "outputs": [
    {
     "name": "stdout",
     "output_type": "stream",
     "text": [
      " \"Looking for a partner who is creative, passionate, and loves a good challenge. This person should be able to express themselves clearly and have a strong passion for storytelling. They should be able to discuss movies, books, and TV shows with ease and be able to explain why they love or hate a particular story. They should also be able to talk about the lighting and camera work in a scene and how it helped to sell the story. This person should be comfortable in a creative environment and be able to work well with others. They should also be able to handle criticism well and be able to use it to improve their work. They should be a good listener and be able to respect the opinions of others. They should be open-minded and be able to try new things. They should be a good communicator and be able to express their thoughts and feelings clearly. They should also be able to compromise and be willing to try things that they may not necessarily agree with. They should be a good friend and be able to offer support and advice when needed. They should be a good partner and be able to share in the responsibilities of the relationship. They should be a good lover and be able to show affection and appreciation for their partner. They should also be able to satisfy their partner and be able to make them feel loved and appreciated. This person should be confident and be able to make decisions on their own. They should also be able to take risks and be willing to try new things. They should be a good leader and be able to inspire and motivate others. They should also be able to take direction and be willing to listen to others. They should be a good learner and be able to take criticism well and be able to use it to improve themselves. They should be a good teacher and be able to share their knowledge and skills with others. They should also be able to explain things clearly and be able to make complex ideas easy to understand. They should be a good student and be able to learn new things and be able to apply them to their life. They should also be able to ask questions and be curious about the world. They should be a good traveler and be able to explore new places and be open to new experiences. They should also be able to adapt to new cultures and be willing to try new things. They should be a good citizen and be able to participate in their community and be a good neighbor. They should also be able to vote and be involved in the political process. They should be a good environmentalist and be able to care for the planet and be aware of their impact on the environment. They should also be able to recycle and be energy-efficient. They should be a good animal lover and be able to treat animals with respect and be willing to adopt or rescue animals in need. They should also be a good vegetarian or vegan and be able to avoid eating animals or animal products. They should be a good reader and be able to enjoy books and be able to discuss them with others. They should also be a good writer and be able to express themselves clearly in writing and be able to write stories or essays. They should be a good listener and be able to enjoy music and be able to discuss it with others. They should also be a good singer or musician and be able to create their own music or be able to play an instrument. They should be a good dancer and be able to enjoy dancing and be able to dance with a partner or alone. They should be a good athlete and be able to enjoy sports and be able to play them or watch them. They should also be a good fan and be able to enjoy supporting their favorite teams or athletes. They should be a good student and be able to enjoy learning and be able to apply it to their life. They should also be a good teacher and be able to enjoy teaching others and be able to share their knowledge and skills with them. They should be a good traveler and be able to enjoy exploring new places and be open to new experiences. They should also be a good backpacker or traveler and be able to enjoy going on adventures and be able to rough it in the outdoors. They should be a good eater and be able to enjoy different types of food and be able to try new things. They should also be a good cook and be able to enjoy cooking for themselves or others and be able to make healthy meals. They should be a good eater and be able to enjoy dessert and be able to treat themselves once in a while. They should be a good drinker and be able to enjoy alcohol in moderation and be able to avoid drinking too much or too often. They should also be a good bartender and be able to enjoy making cocktails or other drinks for themselves or others. They should be a good smoker and be able to enjoy smoking in moderation and be able to avoid smoking too much or too often. They should also be a good vaper and be able to enjoy vaping in place\n"
     ]
    }
   ],
   "source": [
    "match_profile = \"\"\"\n",
    "Imagine you're the following user of a dating app with the following fields. Do not talk about yourself or the user. Talk about the relationship or the person\n",
    "they are looking for. I want you to be creative and generate a 200 word response of the \n",
    "quality and attributes this person would like to marry or date. Specify what they are looking for and do not talk about the user itself.\n",
    "User Data: {user_data}\n",
    "\"\"\"\n",
    "\n",
    "prompt_profile = PromptTemplate(template=match_profile, input_variables=[\"user_data\"])\n",
    "\n",
    "llm = Cohere(cohere_api_key=COHERE_API_KEY, model=\"command\", max_tokens=1000, temperature=0.8)\n",
    "llm_chain_profile = LLMChain(prompt=prompt_profile, llm=llm)\n",
    "\n",
    "# Get user_id 35 from collection\n",
    "finder_data = collection.find_one({\"User_ID\": 35})\n",
    "print(llm_chain_profile.run(user_data=user_data))"
   ]
  },
  {
   "cell_type": "markdown",
   "metadata": {},
   "source": [
    "### Cohere GenAI LLM - Scale"
   ]
  },
  {
   "cell_type": "code",
   "execution_count": null,
   "metadata": {},
   "outputs": [],
   "source": [
    "\n",
    "# see all User_ID in collections\n",
    "about_me_generated = []\n",
    "# use tqdm\n",
    "\n",
    "for user in tqdm(collection.find()):\n",
    "    # print(user[\"User_ID\"])\n",
    "\n",
    "\n",
    "    user_data = collection.find_one({\"User_ID\": user[\"User_ID\"]})\n",
    "    about_me_generated.append(llm_chain.run(user_data=user_data))\n",
    "    # if user is last\n",
    "    # if user[\"User_ID\"] == collection.count_documents({}):\n",
    "    #     print(llm_chain.output)"
   ]
  },
  {
   "cell_type": "markdown",
   "metadata": {},
   "source": [
    "### Modal Encoding"
   ]
  },
  {
   "cell_type": "code",
   "execution_count": 12,
   "metadata": {},
   "outputs": [],
   "source": [
    "import requests\n",
    "from modal import Stub, Image, method\n",
    "\n",
    "stub = Stub()\n",
    "\n",
    "def download_models():\n",
    "    # Caches the model inside the Modal image, so subsequent cold starts are faster.\n",
    "    from sentence_transformers import SentenceTransformer\n",
    "    SentenceTransformer('sentence-transformers/all-MiniLM-L6-v2')\n",
    "\n",
    "image = Image.debian_slim().pip_install(\"sentence-transformers\").run_function(download_models)\n",
    "\n",
    "@stub.cls(image=image)\n",
    "class ModalEmbedding:\n",
    "    def __enter__(self):\n",
    "      from sentence_transformers import SentenceTransformer\n",
    "      self.model = SentenceTransformer('sentence-transformers/all-MiniLM-L6-v2')\n",
    "\n",
    "    @method()\n",
    "    def generate(self, text: str):\n",
    "      return self.model.encode(text).tolist()"
   ]
  },
  {
   "cell_type": "code",
   "execution_count": 11,
   "metadata": {},
   "outputs": [],
   "source": [
    "import modal\n",
    "\n",
    "stub = modal.Stub(\"example-get-started\")\n",
    "\n",
    "\n",
    "@stub.function()\n",
    "def square(x):\n",
    "    print(\"This code is running on a remote worker!\")\n",
    "    return x**2\n",
    "\n",
    "\n",
    "@stub.local_entrypoint()\n",
    "def main():\n",
    "    print(\"the square is\", square.remote(42))\n"
   ]
  },
  {
   "cell_type": "code",
   "execution_count": 12,
   "metadata": {},
   "outputs": [
    {
     "data": {
      "text/plain": [
       "<contextlib.Blocking_AsyncGeneratorContextManager at 0x293dcf820>"
      ]
     },
     "execution_count": 12,
     "metadata": {},
     "output_type": "execute_result"
    }
   ],
   "source": [
    "stub.run(\"main\")"
   ]
  }
 ],
 "metadata": {
  "kernelspec": {
   "display_name": "cupidgpt",
   "language": "python",
   "name": "python3"
  },
  "language_info": {
   "codemirror_mode": {
    "name": "ipython",
    "version": 3
   },
   "file_extension": ".py",
   "mimetype": "text/x-python",
   "name": "python",
   "nbconvert_exporter": "python",
   "pygments_lexer": "ipython3",
   "version": "3.10.12"
  },
  "orig_nbformat": 4
 },
 "nbformat": 4,
 "nbformat_minor": 2
}
